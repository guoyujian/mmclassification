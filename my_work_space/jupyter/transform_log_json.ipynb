{
 "cells": [
  {
   "attachments": {},
   "cell_type": "markdown",
   "metadata": {},
   "source": [
    "将log_json从1.x转换为0.x的格式。这是由于mmcls版本导致的问题。"
   ]
  },
  {
   "cell_type": "code",
   "execution_count": 6,
   "metadata": {},
   "outputs": [],
   "source": [
    "import os\n",
    "import json"
   ]
  },
  {
   "cell_type": "code",
   "execution_count": 7,
   "metadata": {},
   "outputs": [],
   "source": [
    "log_json_pth = '/home/fate/openmmlab/mmclassification/work_dirs/efficientnet-b0_8xb32_in1k/20230102_222904/vis_data/'\n",
    "\n",
    "log_json_filename = '20230102_222904'\n",
    "\n",
    "log_json_filename_new = f'{log_json_filename}_train_old_format'\n",
    "with open(os.path.join(log_json_pth, f'{log_json_filename_new}.json'), 'w') as fw:\n",
    "    with open(os.path.join(log_json_pth, f'{log_json_filename}.json'), 'r') as fr:\n",
    "        for line in fr:\n",
    "            log = json.loads(line.strip())\n",
    "            if 'epoch' not in log:\n",
    "                continue\n",
    "            new_log = {\"mode\": \"train\"}\n",
    "            new_log['lr'] = log['lr']\n",
    "            new_log['memory'] = 0\n",
    "            new_log['data_time'] = log['data_time'] * 100\n",
    "            new_log['loss'] = log['loss']\n",
    "            new_log['epoch'] = log['epoch']\n",
    "            new_log['iter'] = log['step']\n",
    "            new_log['time'] = log['time']\n",
    "            fw.write(json.dumps(new_log) + '\\n')\n"
   ]
  }
 ],
 "metadata": {
  "kernelspec": {
   "display_name": "py38",
   "language": "python",
   "name": "py38"
  },
  "language_info": {
   "codemirror_mode": {
    "name": "ipython",
    "version": 3
   },
   "file_extension": ".py",
   "mimetype": "text/x-python",
   "name": "python",
   "nbconvert_exporter": "python",
   "pygments_lexer": "ipython3",
   "version": "3.8.13"
  },
  "orig_nbformat": 4
 },
 "nbformat": 4,
 "nbformat_minor": 2
}
